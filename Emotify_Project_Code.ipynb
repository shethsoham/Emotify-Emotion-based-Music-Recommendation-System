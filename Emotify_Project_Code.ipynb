{
  "cells": [
    {
      "cell_type": "markdown",
      "source": [
        "**IMPORTS**"
      ],
      "metadata": {
        "id": "d9n1Mu5oimN7"
      }
    },
    {
      "cell_type": "code",
      "execution_count": 1,
      "metadata": {
        "id": "2NxEUEkQqUlz",
        "colab": {
          "base_uri": "https://localhost:8080/",
          "height": 0
        },
        "outputId": "b7978c6a-a4f0-4d65-d8c4-ef07a02ecf29"
      },
      "outputs": [
        {
          "output_type": "stream",
          "name": "stderr",
          "text": [
            "[nltk_data] Downloading package omw-1.4 to /root/nltk_data...\n",
            "[nltk_data] Downloading package stopwords to /root/nltk_data...\n",
            "[nltk_data]   Unzipping corpora/stopwords.zip.\n",
            "[nltk_data] Downloading package wordnet to /root/nltk_data...\n"
          ]
        }
      ],
      "source": [
        "import numpy as np\n",
        "import pandas as pd\n",
        "import re\n",
        "import nltk\n",
        "import random\n",
        "from nltk.corpus import stopwords\n",
        "import string\n",
        "from textblob import Word\n",
        "from sklearn import metrics\n",
        "nltk.download('omw-1.4')\n",
        "nltk.download('stopwords')\n",
        "\n",
        "from sklearn.model_selection import train_test_split,GridSearchCV, cross_val_score, cross_val_predict, StratifiedKFold, cross_validate\n",
        "from sklearn.naive_bayes import MultinomialNB\n",
        "from sklearn.linear_model import LogisticRegression\n",
        "from sklearn.feature_extraction.text import TfidfVectorizer,TfidfTransformer,CountVectorizer\n",
        "from sklearn.pipeline import Pipeline\n",
        "\n",
        "from nltk.stem import PorterStemmer\n",
        "from nltk.stem import WordNetLemmatizer\n",
        "nltk.download('wordnet')\n",
        "\n",
        "from xgboost import XGBClassifier\n",
        "from sklearn.svm import SVC\n",
        "from sklearn.preprocessing import LabelEncoder\n",
        "from sklearn.tree import DecisionTreeClassifier\n",
        "from sklearn.preprocessing import StandardScaler\n",
        "from sklearn.neighbors import KNeighborsClassifier\n",
        "from sklearn.metrics import f1_score, accuracy_score, precision_score,recall_score, roc_auc_score, classification_report, confusion_matrix\n",
        "from sklearn.ensemble import RandomForestClassifier\n",
        "from sklearn.datasets import make_classification,make_regression\n",
        "from sklearn.cluster import KMeans\n",
        "\n",
        "\n",
        "import matplotlib.pyplot as plt\n",
        "%matplotlib inline"
      ]
    },
    {
      "cell_type": "markdown",
      "metadata": {
        "id": "ocuXjeEa68mq"
      },
      "source": [
        "# DATA LOADING"
      ]
    },
    {
      "cell_type": "code",
      "execution_count": 2,
      "metadata": {
        "id": "uCKmb3JVqhSH",
        "colab": {
          "base_uri": "https://localhost:8080/",
          "height": 403
        },
        "outputId": "336a56a7-e926-4948-8aa4-782a6d88a165"
      },
      "outputs": [
        {
          "output_type": "stream",
          "name": "stdout",
          "text": [
            "<class 'pandas.core.frame.DataFrame'>\n",
            "RangeIndex: 40000 entries, 0 to 39999\n",
            "Data columns (total 4 columns):\n",
            " #   Column       Non-Null Count  Dtype  \n",
            "---  ------       --------------  -----  \n",
            " 0   tweet_id     40000 non-null  int64  \n",
            " 1   emotion      40000 non-null  object \n",
            " 2   content      40000 non-null  object \n",
            " 3   new_content  0 non-null      float64\n",
            "dtypes: float64(1), int64(1), object(2)\n",
            "memory usage: 1.2+ MB\n"
          ]
        },
        {
          "output_type": "execute_result",
          "data": {
            "text/plain": [
              "     tweet_id     emotion                                            content  \\\n",
              "0  1956967341       empty  @tiffanylue i know  i was listenin to bad habi...   \n",
              "1  1956967666     sadness  Layin n bed with a headache  ughhhh...waitin o...   \n",
              "2  1956967696     sadness                Funeral ceremony...gloomy friday...   \n",
              "3  1956967789  enthusiasm               wants to hang out with friends SOON!   \n",
              "4  1956968416     neutral  @dannycastillo We want to trade with someone w...   \n",
              "\n",
              "   new_content  \n",
              "0          NaN  \n",
              "1          NaN  \n",
              "2          NaN  \n",
              "3          NaN  \n",
              "4          NaN  "
            ],
            "text/html": [
              "\n",
              "  <div id=\"df-70fe7cf6-9ae9-4ad4-be28-40bd568e97da\">\n",
              "    <div class=\"colab-df-container\">\n",
              "      <div>\n",
              "<style scoped>\n",
              "    .dataframe tbody tr th:only-of-type {\n",
              "        vertical-align: middle;\n",
              "    }\n",
              "\n",
              "    .dataframe tbody tr th {\n",
              "        vertical-align: top;\n",
              "    }\n",
              "\n",
              "    .dataframe thead th {\n",
              "        text-align: right;\n",
              "    }\n",
              "</style>\n",
              "<table border=\"1\" class=\"dataframe\">\n",
              "  <thead>\n",
              "    <tr style=\"text-align: right;\">\n",
              "      <th></th>\n",
              "      <th>tweet_id</th>\n",
              "      <th>emotion</th>\n",
              "      <th>content</th>\n",
              "      <th>new_content</th>\n",
              "    </tr>\n",
              "  </thead>\n",
              "  <tbody>\n",
              "    <tr>\n",
              "      <th>0</th>\n",
              "      <td>1956967341</td>\n",
              "      <td>empty</td>\n",
              "      <td>@tiffanylue i know  i was listenin to bad habi...</td>\n",
              "      <td>NaN</td>\n",
              "    </tr>\n",
              "    <tr>\n",
              "      <th>1</th>\n",
              "      <td>1956967666</td>\n",
              "      <td>sadness</td>\n",
              "      <td>Layin n bed with a headache  ughhhh...waitin o...</td>\n",
              "      <td>NaN</td>\n",
              "    </tr>\n",
              "    <tr>\n",
              "      <th>2</th>\n",
              "      <td>1956967696</td>\n",
              "      <td>sadness</td>\n",
              "      <td>Funeral ceremony...gloomy friday...</td>\n",
              "      <td>NaN</td>\n",
              "    </tr>\n",
              "    <tr>\n",
              "      <th>3</th>\n",
              "      <td>1956967789</td>\n",
              "      <td>enthusiasm</td>\n",
              "      <td>wants to hang out with friends SOON!</td>\n",
              "      <td>NaN</td>\n",
              "    </tr>\n",
              "    <tr>\n",
              "      <th>4</th>\n",
              "      <td>1956968416</td>\n",
              "      <td>neutral</td>\n",
              "      <td>@dannycastillo We want to trade with someone w...</td>\n",
              "      <td>NaN</td>\n",
              "    </tr>\n",
              "  </tbody>\n",
              "</table>\n",
              "</div>\n",
              "      <button class=\"colab-df-convert\" onclick=\"convertToInteractive('df-70fe7cf6-9ae9-4ad4-be28-40bd568e97da')\"\n",
              "              title=\"Convert this dataframe to an interactive table.\"\n",
              "              style=\"display:none;\">\n",
              "        \n",
              "  <svg xmlns=\"http://www.w3.org/2000/svg\" height=\"24px\"viewBox=\"0 0 24 24\"\n",
              "       width=\"24px\">\n",
              "    <path d=\"M0 0h24v24H0V0z\" fill=\"none\"/>\n",
              "    <path d=\"M18.56 5.44l.94 2.06.94-2.06 2.06-.94-2.06-.94-.94-2.06-.94 2.06-2.06.94zm-11 1L8.5 8.5l.94-2.06 2.06-.94-2.06-.94L8.5 2.5l-.94 2.06-2.06.94zm10 10l.94 2.06.94-2.06 2.06-.94-2.06-.94-.94-2.06-.94 2.06-2.06.94z\"/><path d=\"M17.41 7.96l-1.37-1.37c-.4-.4-.92-.59-1.43-.59-.52 0-1.04.2-1.43.59L10.3 9.45l-7.72 7.72c-.78.78-.78 2.05 0 2.83L4 21.41c.39.39.9.59 1.41.59.51 0 1.02-.2 1.41-.59l7.78-7.78 2.81-2.81c.8-.78.8-2.07 0-2.86zM5.41 20L4 18.59l7.72-7.72 1.47 1.35L5.41 20z\"/>\n",
              "  </svg>\n",
              "      </button>\n",
              "      \n",
              "  <style>\n",
              "    .colab-df-container {\n",
              "      display:flex;\n",
              "      flex-wrap:wrap;\n",
              "      gap: 12px;\n",
              "    }\n",
              "\n",
              "    .colab-df-convert {\n",
              "      background-color: #E8F0FE;\n",
              "      border: none;\n",
              "      border-radius: 50%;\n",
              "      cursor: pointer;\n",
              "      display: none;\n",
              "      fill: #1967D2;\n",
              "      height: 32px;\n",
              "      padding: 0 0 0 0;\n",
              "      width: 32px;\n",
              "    }\n",
              "\n",
              "    .colab-df-convert:hover {\n",
              "      background-color: #E2EBFA;\n",
              "      box-shadow: 0px 1px 2px rgba(60, 64, 67, 0.3), 0px 1px 3px 1px rgba(60, 64, 67, 0.15);\n",
              "      fill: #174EA6;\n",
              "    }\n",
              "\n",
              "    [theme=dark] .colab-df-convert {\n",
              "      background-color: #3B4455;\n",
              "      fill: #D2E3FC;\n",
              "    }\n",
              "\n",
              "    [theme=dark] .colab-df-convert:hover {\n",
              "      background-color: #434B5C;\n",
              "      box-shadow: 0px 1px 3px 1px rgba(0, 0, 0, 0.15);\n",
              "      filter: drop-shadow(0px 1px 2px rgba(0, 0, 0, 0.3));\n",
              "      fill: #FFFFFF;\n",
              "    }\n",
              "  </style>\n",
              "\n",
              "      <script>\n",
              "        const buttonEl =\n",
              "          document.querySelector('#df-70fe7cf6-9ae9-4ad4-be28-40bd568e97da button.colab-df-convert');\n",
              "        buttonEl.style.display =\n",
              "          google.colab.kernel.accessAllowed ? 'block' : 'none';\n",
              "\n",
              "        async function convertToInteractive(key) {\n",
              "          const element = document.querySelector('#df-70fe7cf6-9ae9-4ad4-be28-40bd568e97da');\n",
              "          const dataTable =\n",
              "            await google.colab.kernel.invokeFunction('convertToInteractive',\n",
              "                                                     [key], {});\n",
              "          if (!dataTable) return;\n",
              "\n",
              "          const docLinkHtml = 'Like what you see? Visit the ' +\n",
              "            '<a target=\"_blank\" href=https://colab.research.google.com/notebooks/data_table.ipynb>data table notebook</a>'\n",
              "            + ' to learn more about interactive tables.';\n",
              "          element.innerHTML = '';\n",
              "          dataTable['output_type'] = 'display_data';\n",
              "          await google.colab.output.renderOutput(dataTable, element);\n",
              "          const docLink = document.createElement('div');\n",
              "          docLink.innerHTML = docLinkHtml;\n",
              "          element.appendChild(docLink);\n",
              "        }\n",
              "      </script>\n",
              "    </div>\n",
              "  </div>\n",
              "  "
            ]
          },
          "metadata": {},
          "execution_count": 2
        }
      ],
      "source": [
        "tweets = pd.read_csv(\"tweet_emotions.csv\")\n",
        "tweets['new_content']=np.nan\n",
        "tweets=tweets.rename(columns={'sentiment':'emotion'})\n",
        "tweets.info()\n",
        "tweets.head()"
      ]
    },
    {
      "cell_type": "code",
      "execution_count": 3,
      "metadata": {
        "id": "14hzIBGGq_40",
        "colab": {
          "base_uri": "https://localhost:8080/",
          "height": 0
        },
        "outputId": "f2910c65-5876-4f9c-e08f-54c317977f10"
      },
      "outputs": [
        {
          "output_type": "execute_result",
          "data": {
            "text/plain": [
              "(40000, 4)"
            ]
          },
          "metadata": {},
          "execution_count": 3
        }
      ],
      "source": [
        "#Size of the tweet dataset\n",
        "tweets.shape"
      ]
    },
    {
      "cell_type": "code",
      "execution_count": 4,
      "metadata": {
        "id": "KJUxK8KLrG7j",
        "colab": {
          "base_uri": "https://localhost:8080/",
          "height": 0
        },
        "outputId": "e5df076e-e99a-4537-fba3-04e5eda2a671"
      },
      "outputs": [
        {
          "output_type": "execute_result",
          "data": {
            "text/plain": [
              "tweet_id         int64\n",
              "emotion         object\n",
              "content         object\n",
              "new_content    float64\n",
              "dtype: object"
            ]
          },
          "metadata": {},
          "execution_count": 4
        }
      ],
      "source": [
        "#data types for tweets data set\n",
        "tweets.dtypes"
      ]
    },
    {
      "cell_type": "code",
      "execution_count": 5,
      "metadata": {
        "id": "SKMvJmc3JqlI",
        "colab": {
          "base_uri": "https://localhost:8080/",
          "height": 0
        },
        "outputId": "ffddaa22-65e1-45e6-ef09-ba23f91e6eb3"
      },
      "outputs": [
        {
          "output_type": "execute_result",
          "data": {
            "text/plain": [
              "(13, 4)"
            ]
          },
          "metadata": {},
          "execution_count": 5
        }
      ],
      "source": [
        "#Create data frame for music\n",
        "music = pd.read_csv(\"music.csv\")\n",
        "music.shape"
      ]
    },
    {
      "cell_type": "code",
      "source": [
        "#data types for music data set\n",
        "music.dtypes"
      ],
      "metadata": {
        "id": "zCXm6_2aVGb5",
        "colab": {
          "base_uri": "https://localhost:8080/",
          "height": 0
        },
        "outputId": "eca7d463-2ed8-4a94-c903-e644edf06bd3"
      },
      "execution_count": 6,
      "outputs": [
        {
          "output_type": "execute_result",
          "data": {
            "text/plain": [
              "sr_number     int64\n",
              "emotion      object\n",
              "genres       object\n",
              "songs        object\n",
              "dtype: object"
            ]
          },
          "metadata": {},
          "execution_count": 6
        }
      ]
    },
    {
      "cell_type": "markdown",
      "source": [
        "# DATA PREPROCESSING"
      ],
      "metadata": {
        "id": "JU1XTT0wWYj7"
      }
    },
    {
      "cell_type": "code",
      "execution_count": 7,
      "metadata": {
        "id": "Yy5_WQS-tX2W",
        "colab": {
          "base_uri": "https://localhost:8080/",
          "height": 0
        },
        "outputId": "93d6a781-0ac6-41b6-d938-01837730e121"
      },
      "outputs": [
        {
          "output_type": "execute_result",
          "data": {
            "text/plain": [
              "Index(['tweet_id', 'emotion', 'content', 'new_content'], dtype='object')"
            ]
          },
          "metadata": {},
          "execution_count": 7
        }
      ],
      "source": [
        "tweets.columns"
      ]
    },
    {
      "cell_type": "code",
      "execution_count": 8,
      "metadata": {
        "id": "3yMn5Cd-t-hZ",
        "colab": {
          "base_uri": "https://localhost:8080/",
          "height": 0
        },
        "outputId": "e97d0d29-6d46-4f32-9ba3-66adb1d294b8"
      },
      "outputs": [
        {
          "output_type": "execute_result",
          "data": {
            "text/plain": [
              "[('tweet_id', 0), ('emotion', 39987), ('content', 173), ('new_content', 39999)]"
            ]
          },
          "metadata": {},
          "execution_count": 8
        }
      ],
      "source": [
        "#checking duplicates for each colum\n",
        "[(i,tweets[i].duplicated().sum()) for i in tweets.columns]"
      ]
    },
    {
      "cell_type": "code",
      "source": [
        "#Finding the distribution of the response variable\n",
        "plt.figure(figsize=(10, 8))\n",
        "tweets['emotion'].value_counts().plot(kind='bar')\n",
        "plt.xlabel('emotion')\n",
        "plt.ylabel('frequency')"
      ],
      "metadata": {
        "id": "Mr1rtLh4Wbes",
        "colab": {
          "base_uri": "https://localhost:8080/",
          "height": 563
        },
        "outputId": "ebf29eec-9b59-42bb-d55f-1c8fb682dd64"
      },
      "execution_count": 9,
      "outputs": [
        {
          "output_type": "execute_result",
          "data": {
            "text/plain": [
              "Text(0, 0.5, 'frequency')"
            ]
          },
          "metadata": {},
          "execution_count": 9
        },
        {
          "output_type": "display_data",
          "data": {
            "text/plain": [
              "<Figure size 720x576 with 1 Axes>"
            ],
            "image/png": "[encoded data removed]"
          },
          "metadata": {
            "needs_background": "light"
          }
        }
      ]
    },
    {
      "cell_type": "code",
      "execution_count": 11,
      "metadata": {
        "id": "gakm2-wOxa9l"
      },
      "outputs": [],
      "source": [
        "#Data Preprocessing\n",
        "lemmatizer=WordNetLemmatizer()\n",
        "stop_words = stopwords.words(\"english\")\n",
        "def run_test(y):\n",
        "  for j,i in enumerate(y):\n",
        "    match=re.search(r'(^@\\w+)', i)\n",
        "    if match:\n",
        "      match1=re.sub(match.group(),'',i).lower()\n",
        "      new_word=re.findall(r'(\\w+)', match1)\n",
        "      x=\" \".join(lemmatizer.lemmatize(item) for item in new_word if item not in stop_words)\n",
        "      tweets['new_content'][j]=x\n",
        "    else:\n",
        "      new_word=re.findall(r'(\\w+)', i.lower())\n",
        "      x=\" \".join(lemmatizer.lemmatize(item) for item in new_word if item not in stop_words)\n",
        "      tweets['new_content'][j]=x\n",
        "      continue\n"
      ]
    },
    {
      "cell_type": "code",
      "execution_count": 12,
      "metadata": {
        "id": "nuui9yY2_0PG",
        "colab": {
          "base_uri": "https://localhost:8080/",
          "height": 0
        },
        "outputId": "b73440a7-8a48-4cf7-ed30-26a32dd27438"
      },
      "outputs": [
        {
          "output_type": "stream",
          "name": "stderr",
          "text": [
            "<ipython-input-11-eafed02c6bf0>:11: SettingWithCopyWarning: \n",
            "A value is trying to be set on a copy of a slice from a DataFrame\n",
            "\n",
            "See the caveats in the documentation: https://pandas.pydata.org/pandas-docs/stable/user_guide/indexing.html#returning-a-view-versus-a-copy\n",
            "  tweets['new_content'][j]=x\n",
            "/usr/local/lib/python3.8/dist-packages/pandas/core/indexing.py:1732: SettingWithCopyWarning: \n",
            "A value is trying to be set on a copy of a slice from a DataFrame\n",
            "\n",
            "See the caveats in the documentation: https://pandas.pydata.org/pandas-docs/stable/user_guide/indexing.html#returning-a-view-versus-a-copy\n",
            "  self._setitem_single_block(indexer, value, name)\n"
          ]
        }
      ],
      "source": [
        "y=run_test(tweets['content'])"
      ]
    },
    {
      "cell_type": "code",
      "execution_count": 13,
      "metadata": {
        "id": "PPSOcYz_Sti7",
        "colab": {
          "base_uri": "https://localhost:8080/",
          "height": 0
        },
        "outputId": "d10e5574-8b7c-466c-af50-c686ffb6ed43"
      },
      "outputs": [
        {
          "output_type": "execute_result",
          "data": {
            "text/plain": [
              "0"
            ]
          },
          "metadata": {},
          "execution_count": 13
        }
      ],
      "source": [
        "#check if there are any null values after data cleaning\n",
        "tweets['new_content'].isnull().sum()"
      ]
    },
    {
      "cell_type": "code",
      "execution_count": 14,
      "metadata": {
        "id": "C0KBce-A1EfX",
        "colab": {
          "base_uri": "https://localhost:8080/",
          "height": 0
        },
        "outputId": "4cdd39a6-da2a-4011-f158-6dce1eac434d"
      },
      "outputs": [
        {
          "output_type": "execute_result",
          "data": {
            "text/plain": [
              "(40000, 4)"
            ]
          },
          "metadata": {},
          "execution_count": 14
        }
      ],
      "source": [
        "tweets.shape"
      ]
    },
    {
      "cell_type": "code",
      "execution_count": 15,
      "metadata": {
        "id": "CvOhS1r0avEN",
        "colab": {
          "base_uri": "https://localhost:8080/",
          "height": 0
        },
        "outputId": "537af92c-2577-4379-863b-c52637085c87"
      },
      "outputs": [
        {
          "output_type": "execute_result",
          "data": {
            "text/plain": [
              "neutral       8638\n",
              "worry         8459\n",
              "happiness     5209\n",
              "sadness       5165\n",
              "love          3842\n",
              "surprise      2187\n",
              "fun           1776\n",
              "relief        1526\n",
              "hate          1323\n",
              "empty          827\n",
              "enthusiasm     759\n",
              "boredom        179\n",
              "anger          110\n",
              "Name: emotion, dtype: int64"
            ]
          },
          "metadata": {},
          "execution_count": 15
        }
      ],
      "source": [
        "tweets['emotion'].value_counts()"
      ]
    },
    {
      "cell_type": "markdown",
      "metadata": {
        "id": "jDNyExelzJCn"
      },
      "source": [
        "#DATA SPLITTING"
      ]
    },
    {
      "cell_type": "code",
      "execution_count": 16,
      "metadata": {
        "id": "ziRXizAUxcoE"
      },
      "outputs": [],
      "source": [
        "X = tweets['new_content']\n",
        "y = tweets[\"emotion\"]"
      ]
    },
    {
      "cell_type": "code",
      "execution_count": 17,
      "metadata": {
        "id": "u2vAzpmKjANt"
      },
      "outputs": [],
      "source": [
        "cv=CountVectorizer()\n",
        "X=cv.fit_transform(X)\n",
        "X_train,X_test,y_train,y_test=train_test_split(X,y,test_size=0.3,random_state=10,stratify=y)"
      ]
    },
    {
      "cell_type": "code",
      "execution_count": 18,
      "metadata": {
        "id": "7PffqX5Xkv31",
        "colab": {
          "base_uri": "https://localhost:8080/",
          "height": 767
        },
        "outputId": "1478b5b3-ba2e-4285-ce80-9fb7050da016"
      },
      "outputs": [
        {
          "output_type": "stream",
          "name": "stderr",
          "text": [
            "/usr/local/lib/python3.8/dist-packages/sklearn/metrics/_classification.py:1318: UndefinedMetricWarning: Precision and F-score are ill-defined and being set to 0.0 in labels with no predicted samples. Use `zero_division` parameter to control this behavior.\n",
            "  _warn_prf(average, modifier, msg_start, len(result))\n",
            "/usr/local/lib/python3.8/dist-packages/sklearn/metrics/_classification.py:1318: UndefinedMetricWarning: Precision and F-score are ill-defined and being set to 0.0 in labels with no predicted samples. Use `zero_division` parameter to control this behavior.\n",
            "  _warn_prf(average, modifier, msg_start, len(result))\n"
          ]
        },
        {
          "output_type": "stream",
          "name": "stdout",
          "text": [
            "              precision    recall  f1-score   support\n",
            "\n",
            "       anger       0.00      0.00      0.00        33\n",
            "     boredom       0.00      0.00      0.00        54\n",
            "       empty       0.33      0.01      0.02       248\n",
            "  enthusiasm       0.00      0.00      0.00       228\n",
            "         fun       0.00      0.00      0.00       533\n",
            "   happiness       0.32      0.30      0.31      1563\n",
            "        hate       0.43      0.02      0.03       397\n",
            "        love       0.44      0.29      0.35      1152\n",
            "     neutral       0.33      0.40      0.36      2591\n",
            "      relief       0.12      0.00      0.00       458\n",
            "     sadness       0.29      0.15      0.20      1549\n",
            "    surprise       0.04      0.00      0.00       656\n",
            "       worry       0.28      0.64      0.39      2538\n",
            "\n",
            "    accuracy                           0.31     12000\n",
            "   macro avg       0.20      0.14      0.13     12000\n",
            "weighted avg       0.28      0.31      0.26     12000\n",
            "\n"
          ]
        },
        {
          "output_type": "stream",
          "name": "stderr",
          "text": [
            "/usr/local/lib/python3.8/dist-packages/sklearn/metrics/_classification.py:1318: UndefinedMetricWarning: Precision and F-score are ill-defined and being set to 0.0 in labels with no predicted samples. Use `zero_division` parameter to control this behavior.\n",
            "  _warn_prf(average, modifier, msg_start, len(result))\n"
          ]
        },
        {
          "output_type": "execute_result",
          "data": {
            "text/plain": [
              "[<matplotlib.lines.Line2D at 0x7f002c4889a0>]"
            ]
          },
          "metadata": {},
          "execution_count": 18
        },
        {
          "output_type": "display_data",
          "data": {
            "text/plain": [
              "<Figure size 432x288 with 1 Axes>"
            ],
            "image/png": "[encoded data removed]"
          },
          "metadata": {
            "needs_background": "light"
          }
        }
      ],
      "source": [
        "#Multinomial Naive Bayes\n",
        "model=MultinomialNB()\n",
        "model.fit(X_train,y_train)\n",
        "NB_predicted=model.predict(X_test)\n",
        "print(classification_report(y_test,NB_predicted))\n",
        "plt.plot(NB_predicted)"
      ]
    },
    {
      "cell_type": "code",
      "execution_count": 20,
      "metadata": {
        "id": "bgaBF3ROkj-n"
      },
      "outputs": [],
      "source": [
        "#using TF-IDF Transformer \n",
        "X = tweets['new_content']\n",
        "y = tweets[\"emotion\"]\n",
        "X_train,X_test,y_train,y_test=train_test_split(X,y,test_size=0.3,random_state=10,stratify=y)\n",
        "tf = TfidfVectorizer(analyzer='word',max_features=1000,ngram_range=(1,3))\n",
        "x_tf = tf.fit_transform(X_train)\n",
        "x_val_tf = tf.transform(X_test)"
      ]
    },
    {
      "cell_type": "code",
      "execution_count": 21,
      "metadata": {
        "id": "qGLIM_CTkWdR",
        "colab": {
          "base_uri": "https://localhost:8080/",
          "height": 767
        },
        "outputId": "c7935e95-dd70-438d-f629-647d9c4daa5f"
      },
      "outputs": [
        {
          "output_type": "stream",
          "name": "stdout",
          "text": [
            "              precision    recall  f1-score   support\n",
            "\n",
            "       anger       0.00      0.00      0.00        33\n",
            "     boredom       0.00      0.00      0.00        54\n",
            "       empty       0.14      0.00      0.01       248\n",
            "  enthusiasm       0.00      0.00      0.00       228\n",
            "         fun       0.20      0.02      0.03       533\n",
            "   happiness       0.33      0.35      0.34      1563\n",
            "        hate       0.44      0.15      0.23       397\n",
            "        love       0.47      0.37      0.42      1152\n",
            "     neutral       0.34      0.58      0.43      2591\n",
            "      relief       0.33      0.03      0.06       458\n",
            "     sadness       0.35      0.23      0.28      1549\n",
            "    surprise       0.30      0.03      0.06       656\n",
            "       worry       0.32      0.47      0.38      2538\n",
            "\n",
            "    accuracy                           0.34     12000\n",
            "   macro avg       0.25      0.17      0.17     12000\n",
            "weighted avg       0.33      0.34      0.31     12000\n",
            "\n"
          ]
        },
        {
          "output_type": "stream",
          "name": "stderr",
          "text": [
            "/usr/local/lib/python3.8/dist-packages/sklearn/metrics/_classification.py:1318: UndefinedMetricWarning: Precision and F-score are ill-defined and being set to 0.0 in labels with no predicted samples. Use `zero_division` parameter to control this behavior.\n",
            "  _warn_prf(average, modifier, msg_start, len(result))\n",
            "/usr/local/lib/python3.8/dist-packages/sklearn/metrics/_classification.py:1318: UndefinedMetricWarning: Precision and F-score are ill-defined and being set to 0.0 in labels with no predicted samples. Use `zero_division` parameter to control this behavior.\n",
            "  _warn_prf(average, modifier, msg_start, len(result))\n",
            "/usr/local/lib/python3.8/dist-packages/sklearn/metrics/_classification.py:1318: UndefinedMetricWarning: Precision and F-score are ill-defined and being set to 0.0 in labels with no predicted samples. Use `zero_division` parameter to control this behavior.\n",
            "  _warn_prf(average, modifier, msg_start, len(result))\n"
          ]
        },
        {
          "output_type": "execute_result",
          "data": {
            "text/plain": [
              "[<matplotlib.lines.Line2D at 0x7f002be7a190>]"
            ]
          },
          "metadata": {},
          "execution_count": 21
        },
        {
          "output_type": "display_data",
          "data": {
            "text/plain": [
              "<Figure size 432x288 with 1 Axes>"
            ],
            "image/png": "[encoded data removed]"
          },
          "metadata": {
            "needs_background": "light"
          }
        }
      ],
      "source": [
        "#Logistic Regression\n",
        "model =LogisticRegression(solver='liblinear',C=1)\n",
        "model.fit(x_tf,y_train)\n",
        "Log_predicted=model.predict(x_val_tf)\n",
        "print(classification_report(y_test,Log_predicted))\n",
        "plt.plot(Log_predicted)"
      ]
    },
    {
      "cell_type": "code",
      "execution_count": 22,
      "metadata": {
        "id": "kvo2UPitnZxw"
      },
      "outputs": [],
      "source": [
        "cv=CountVectorizer()\n",
        "X=cv.fit_transform(X)\n",
        "X_train,X_test,y_train,y_test=train_test_split(X,y,test_size=0.3,random_state=10)"
      ]
    },
    {
      "cell_type": "code",
      "execution_count": 23,
      "metadata": {
        "id": "tG04x9rhnESV",
        "colab": {
          "base_uri": "https://localhost:8080/",
          "height": 767
        },
        "outputId": "671cdff9-edf9-409c-af7f-bf31f6794039"
      },
      "outputs": [
        {
          "output_type": "stream",
          "name": "stdout",
          "text": [
            "              precision    recall  f1-score   support\n",
            "\n",
            "       anger       0.00      0.00      0.00         0\n",
            "     boredom       0.00      0.00      0.00         3\n",
            "       empty       0.00      0.00      0.00        11\n",
            "  enthusiasm       0.00      0.00      0.00        12\n",
            "         fun       0.03      0.12      0.05       146\n",
            "   happiness       0.32      0.32      0.32      1542\n",
            "        hate       0.17      0.37      0.23       186\n",
            "        love       0.39      0.45      0.42       997\n",
            "     neutral       0.59      0.34      0.43      4476\n",
            "      relief       0.06      0.20      0.09       132\n",
            "     sadness       0.27      0.31      0.29      1289\n",
            "    surprise       0.05      0.15      0.07       204\n",
            "       worry       0.40      0.35      0.37      3002\n",
            "\n",
            "    accuracy                           0.34     12000\n",
            "   macro avg       0.17      0.20      0.18     12000\n",
            "weighted avg       0.43      0.34      0.37     12000\n",
            "\n"
          ]
        },
        {
          "output_type": "stream",
          "name": "stderr",
          "text": [
            "/usr/local/lib/python3.8/dist-packages/sklearn/metrics/_classification.py:1318: UndefinedMetricWarning: Recall and F-score are ill-defined and being set to 0.0 in labels with no true samples. Use `zero_division` parameter to control this behavior.\n",
            "  _warn_prf(average, modifier, msg_start, len(result))\n",
            "/usr/local/lib/python3.8/dist-packages/sklearn/metrics/_classification.py:1318: UndefinedMetricWarning: Recall and F-score are ill-defined and being set to 0.0 in labels with no true samples. Use `zero_division` parameter to control this behavior.\n",
            "  _warn_prf(average, modifier, msg_start, len(result))\n",
            "/usr/local/lib/python3.8/dist-packages/sklearn/metrics/_classification.py:1318: UndefinedMetricWarning: Recall and F-score are ill-defined and being set to 0.0 in labels with no true samples. Use `zero_division` parameter to control this behavior.\n",
            "  _warn_prf(average, modifier, msg_start, len(result))\n"
          ]
        },
        {
          "output_type": "execute_result",
          "data": {
            "text/plain": [
              "[<matplotlib.lines.Line2D at 0x7f002b968850>]"
            ]
          },
          "metadata": {},
          "execution_count": 23
        },
        {
          "output_type": "display_data",
          "data": {
            "text/plain": [
              "<Figure size 432x288 with 1 Axes>"
            ],
            "image/png": "[encoded data removed]"
          },
          "metadata": {
            "needs_background": "light"
          }
        }
      ],
      "source": [
        "#SVC Model\n",
        "ymodel = SVC()\n",
        "model.fit(X_train,y_train)\n",
        "pred_svm = model.predict(X_test)\n",
        "print(classification_report(pred_svm, y_test))\n",
        "plt.plot(pred_svm)"
      ]
    },
    {
      "cell_type": "code",
      "execution_count": 24,
      "metadata": {
        "id": "89PNFZ2JvKsF",
        "colab": {
          "base_uri": "https://localhost:8080/",
          "height": 640
        },
        "outputId": "1447c0a8-eff4-405e-9432-62f80b11d813"
      },
      "outputs": [
        {
          "output_type": "stream",
          "name": "stdout",
          "text": [
            "              precision    recall  f1-score   support\n",
            "\n",
            "       anger       0.04      0.08      0.05        12\n",
            "     boredom       0.02      0.04      0.03        23\n",
            "       empty       0.04      0.05      0.05       224\n",
            "  enthusiasm       0.03      0.04      0.03       165\n",
            "         fun       0.07      0.09      0.08       409\n",
            "   happiness       0.26      0.25      0.25      1628\n",
            "        hate       0.21      0.22      0.22       391\n",
            "        love       0.33      0.34      0.33      1130\n",
            "     neutral       0.44      0.32      0.37      3475\n",
            "      relief       0.07      0.11      0.08       288\n",
            "     sadness       0.23      0.25      0.24      1370\n",
            "    surprise       0.06      0.09      0.07       412\n",
            "       worry       0.30      0.31      0.30      2473\n",
            "\n",
            "    accuracy                           0.27     12000\n",
            "   macro avg       0.16      0.17      0.16     12000\n",
            "weighted avg       0.29      0.27      0.28     12000\n",
            "\n"
          ]
        },
        {
          "output_type": "execute_result",
          "data": {
            "text/plain": [
              "[<matplotlib.lines.Line2D at 0x7f002bd35c10>]"
            ]
          },
          "metadata": {},
          "execution_count": 24
        },
        {
          "output_type": "display_data",
          "data": {
            "text/plain": [
              "<Figure size 432x288 with 1 Axes>"
            ],
            "image/png": "[encoded data removed]"
          },
          "metadata": {
            "needs_background": "light"
          }
        }
      ],
      "source": [
        "#Decision Tree\n",
        "model = DecisionTreeClassifier()\n",
        "model.fit(X_train,y_train)\n",
        "pred_decision = model.predict(X_test)\n",
        "print(classification_report(pred_decision, y_test))\n",
        "plt.plot(pred_decision)"
      ]
    },
    {
      "cell_type": "code",
      "execution_count": 32,
      "metadata": {
        "id": "Daf4oth-x74T",
        "colab": {
          "base_uri": "https://localhost:8080/",
          "height": 0
        },
        "outputId": "ad7e1ab6-f77a-45a2-c8e6-960cf2538fbd"
      },
      "outputs": [
        {
          "output_type": "stream",
          "name": "stdout",
          "text": [
            "Fitting 10 folds for each of 14 candidates, totalling 140 fits\n",
            "{'n_neighbors': 11}\n"
          ]
        }
      ],
      "source": [
        "#KNN Classifier\n",
        "knn = KNeighborsClassifier()\n",
        "k_range = list(range(1, 15))\n",
        "param_grid = dict(n_neighbors=k_range)\n",
        "  \n",
        "# parameter tuning\n",
        "grid = GridSearchCV(knn, param_grid, cv=10, scoring='accuracy', return_train_score=False, verbose=1)\n",
        "  \n",
        "# model fitting\n",
        "grid_search=grid.fit(X_train, y_train)\n",
        "\n",
        "print(grid_search.best_params_)\n"
      ]
    },
    {
      "cell_type": "code",
      "execution_count": 30,
      "metadata": {
        "id": "TY2RXL9fyvW-",
        "colab": {
          "base_uri": "https://localhost:8080/",
          "height": 767
        },
        "outputId": "9115c519-8a09-4714-fe9a-be597d9c7b4a"
      },
      "outputs": [
        {
          "output_type": "stream",
          "name": "stderr",
          "text": [
            "/usr/local/lib/python3.8/dist-packages/sklearn/metrics/_classification.py:1318: UndefinedMetricWarning: Precision and F-score are ill-defined and being set to 0.0 in labels with no predicted samples. Use `zero_division` parameter to control this behavior.\n",
            "  _warn_prf(average, modifier, msg_start, len(result))\n",
            "/usr/local/lib/python3.8/dist-packages/sklearn/metrics/_classification.py:1318: UndefinedMetricWarning: Precision and F-score are ill-defined and being set to 0.0 in labels with no predicted samples. Use `zero_division` parameter to control this behavior.\n",
            "  _warn_prf(average, modifier, msg_start, len(result))\n",
            "/usr/local/lib/python3.8/dist-packages/sklearn/metrics/_classification.py:1318: UndefinedMetricWarning: Precision and F-score are ill-defined and being set to 0.0 in labels with no predicted samples. Use `zero_division` parameter to control this behavior.\n",
            "  _warn_prf(average, modifier, msg_start, len(result))\n"
          ]
        },
        {
          "output_type": "stream",
          "name": "stdout",
          "text": [
            "              precision    recall  f1-score   support\n",
            "\n",
            "       anger       0.00      0.00      0.00        27\n",
            "     boredom       0.00      0.00      0.00        47\n",
            "       empty       0.16      0.05      0.08       258\n",
            "  enthusiasm       0.14      0.00      0.01       215\n",
            "         fun       0.41      0.06      0.11       509\n",
            "   happiness       0.47      0.22      0.30      1576\n",
            "        hate       0.53      0.14      0.22       408\n",
            "        love       0.48      0.39      0.43      1158\n",
            "     neutral       0.27      0.90      0.42      2578\n",
            "      relief       0.64      0.05      0.09       444\n",
            "     sadness       0.44      0.19      0.26      1504\n",
            "    surprise       0.23      0.02      0.04       660\n",
            "       worry       0.55      0.16      0.25      2616\n",
            "\n",
            "    accuracy                           0.33     12000\n",
            "   macro avg       0.33      0.17      0.17     12000\n",
            "weighted avg       0.42      0.33      0.28     12000\n",
            "\n"
          ]
        },
        {
          "output_type": "execute_result",
          "data": {
            "text/plain": [
              "[<matplotlib.lines.Line2D at 0x7f002b3725b0>]"
            ]
          },
          "metadata": {},
          "execution_count": 30
        },
        {
          "output_type": "display_data",
          "data": {
            "text/plain": [
              "<Figure size 432x288 with 1 Axes>"
            ],
            "image/png": "[encoded data removed]"
          },
          "metadata": {
            "needs_background": "light"
          }
        }
      ],
      "source": [
        "# For the best neighbors\n",
        "knn = KNeighborsClassifier(n_neighbors=11)\n",
        "knn.fit(X, y)\n",
        "y_test_knn=knn.predict(X_test)\n",
        "print(classification_report( y_test,y_test_knn))\n",
        "plt.plot(y_test_knn)"
      ]
    },
    {
      "cell_type": "code",
      "execution_count": 31,
      "metadata": {
        "id": "Eia1Bpco3aok",
        "colab": {
          "base_uri": "https://localhost:8080/",
          "height": 767
        },
        "outputId": "dc061dd6-acbf-4b63-bd3a-e8ace58f7f85"
      },
      "outputs": [
        {
          "output_type": "stream",
          "name": "stderr",
          "text": [
            "/usr/local/lib/python3.8/dist-packages/sklearn/metrics/_classification.py:1318: UndefinedMetricWarning: Precision and F-score are ill-defined and being set to 0.0 in labels with no predicted samples. Use `zero_division` parameter to control this behavior.\n",
            "  _warn_prf(average, modifier, msg_start, len(result))\n"
          ]
        },
        {
          "output_type": "stream",
          "name": "stdout",
          "text": [
            "              precision    recall  f1-score   support\n",
            "\n",
            "       anger       0.00      0.00      0.00        27\n",
            "     boredom       0.00      0.00      0.00        47\n",
            "       empty       0.00      0.00      0.00       258\n",
            "  enthusiasm       0.00      0.00      0.00       215\n",
            "         fun       0.18      0.01      0.01       509\n",
            "   happiness       0.35      0.23      0.28      1576\n",
            "        hate       0.44      0.17      0.24       408\n",
            "        love       0.53      0.37      0.43      1158\n",
            "     neutral       0.29      0.77      0.42      2578\n",
            "      relief       0.27      0.04      0.07       444\n",
            "     sadness       0.40      0.18      0.25      1504\n",
            "    surprise       0.15      0.01      0.02       660\n",
            "       worry       0.34      0.30      0.32      2616\n",
            "\n",
            "    accuracy                           0.33     12000\n",
            "   macro avg       0.23      0.16      0.16     12000\n",
            "weighted avg       0.33      0.33      0.28     12000\n",
            "\n"
          ]
        },
        {
          "output_type": "stream",
          "name": "stderr",
          "text": [
            "/usr/local/lib/python3.8/dist-packages/sklearn/metrics/_classification.py:1318: UndefinedMetricWarning: Precision and F-score are ill-defined and being set to 0.0 in labels with no predicted samples. Use `zero_division` parameter to control this behavior.\n",
            "  _warn_prf(average, modifier, msg_start, len(result))\n",
            "/usr/local/lib/python3.8/dist-packages/sklearn/metrics/_classification.py:1318: UndefinedMetricWarning: Precision and F-score are ill-defined and being set to 0.0 in labels with no predicted samples. Use `zero_division` parameter to control this behavior.\n",
            "  _warn_prf(average, modifier, msg_start, len(result))\n"
          ]
        },
        {
          "output_type": "execute_result",
          "data": {
            "text/plain": [
              "[<matplotlib.lines.Line2D at 0x7f002b88e250>]"
            ]
          },
          "metadata": {},
          "execution_count": 31
        },
        {
          "output_type": "display_data",
          "data": {
            "text/plain": [
              "<Figure size 432x288 with 1 Axes>"
            ],
            "image/png": "[encoded data removed]"
          },
          "metadata": {
            "needs_background": "light"
          }
        }
      ],
      "source": [
        "#XGB Classifier\n",
        "model = XGBClassifier()\n",
        "\n",
        "model.fit(X_train, y_train)\n",
        "prod_xgbclassifier = model.predict(X_test)\n",
        "print(classification_report(y_test,prod_xgbclassifier))\n",
        "plt.plot(prod_xgbclassifier)"
      ]
    },
    {
      "cell_type": "code",
      "execution_count": 28,
      "metadata": {
        "id": "btU9d3_isRo5",
        "colab": {
          "base_uri": "https://localhost:8080/",
          "height": 908
        },
        "outputId": "821492a5-e3ef-4ee9-9456-ea758be17ea0"
      },
      "outputs": [
        {
          "output_type": "stream",
          "name": "stdout",
          "text": [
            "Fitting 3 folds for each of 4 candidates, totalling 12 fits\n",
            "{'n_estimators': 50}\n",
            "[[  27    0    0    0    0    0    0    0    0    0    0    0    0]\n",
            " [   0   47    0    0    0    0    0    0    0    0    0    0    0]\n",
            " [   0    0  238    0    0    0    0    0   17    0    3    0    0]\n",
            " [   0    0    0  211    1    0    0    0    1    0    1    0    1]\n",
            " [   0    0    0    0  502    2    0    1    3    0    0    1    0]\n",
            " [   0    0    0    0    1 1532    0   15   21    2    0    1    4]\n",
            " [   0    0    0    0    0    0  405    0    2    1    0    0    0]\n",
            " [   0    0    0    0    0    2    0 1142    9    1    2    0    2]\n",
            " [   0    0    4    0    0    4    0   13 2541    1    6    0    9]\n",
            " [   0    0    0    0    1    1    0    1   11  428    0    0    2]\n",
            " [   0    0    0    0    1    3    4    1   17    0 1467    1   10]\n",
            " [   0    0    0    0    0    1    0    4   13    0    0  639    3]\n",
            " [   0    0    3    0    2    2    0    5   20    0    8    0 2576]]\n",
            "              precision    recall  f1-score   support\n",
            "\n",
            "       anger       1.00      1.00      1.00        27\n",
            "     boredom       1.00      1.00      1.00        47\n",
            "       empty       0.97      0.92      0.95       258\n",
            "  enthusiasm       1.00      0.98      0.99       215\n",
            "         fun       0.99      0.99      0.99       509\n",
            "   happiness       0.99      0.97      0.98      1576\n",
            "        hate       0.99      0.99      0.99       408\n",
            "        love       0.97      0.99      0.98      1158\n",
            "     neutral       0.96      0.99      0.97      2578\n",
            "      relief       0.99      0.96      0.98       444\n",
            "     sadness       0.99      0.98      0.98      1504\n",
            "    surprise       1.00      0.97      0.98       660\n",
            "       worry       0.99      0.98      0.99      2616\n",
            "\n",
            "    accuracy                           0.98     12000\n",
            "   macro avg       0.99      0.98      0.98     12000\n",
            "weighted avg       0.98      0.98      0.98     12000\n",
            "\n"
          ]
        },
        {
          "output_type": "execute_result",
          "data": {
            "text/plain": [
              "[<matplotlib.lines.Line2D at 0x7f002ab3d730>]"
            ]
          },
          "metadata": {},
          "execution_count": 28
        },
        {
          "output_type": "display_data",
          "data": {
            "text/plain": [
              "<Figure size 432x288 with 1 Axes>"
            ],
            "image/png": "[encoded data removed]"
          },
          "metadata": {
            "needs_background": "light"
          }
        }
      ],
      "source": [
        "#Random Forest Classifier\n",
        "rfc = RandomForestClassifier(random_state = 1)\n",
        "param_grid = {'n_estimators': [35, 40, 45, 50]}\n",
        "# parameter tuning\n",
        "grid = GridSearchCV(rfc, param_grid, cv=3, scoring='accuracy', return_train_score=False, verbose=1)\n",
        "# model fitting\n",
        "grid_search=grid.fit(X_train, y_train)\n",
        "print(grid_search.best_params_)\n",
        "# test data\n",
        "rfc = RandomForestClassifier(n_estimators = 50)\n",
        "rfc.fit(X, y)\n",
        "y_test_rf=rfc.predict(X_test) \n",
        "cm = confusion_matrix(y_test,y_test_rf)\n",
        "print(cm)\n",
        "print(classification_report(y_test, y_test_rf))\n",
        "plt.plot(y_test_rf)"
      ]
    },
    {
      "cell_type": "code",
      "source": [
        "len(y_test_rf)"
      ],
      "metadata": {
        "colab": {
          "base_uri": "https://localhost:8080/",
          "height": 0
        },
        "id": "2MoAgMEa1-1L",
        "outputId": "a338144f-1cbd-40f5-f9ad-a163fea32343"
      },
      "execution_count": 34,
      "outputs": [
        {
          "output_type": "execute_result",
          "data": {
            "text/plain": [
              "12000"
            ]
          },
          "metadata": {},
          "execution_count": 34
        }
      ]
    },
    {
      "cell_type": "code",
      "execution_count": 37,
      "metadata": {
        "id": "npDF-zlJIGem",
        "colab": {
          "base_uri": "https://localhost:8080/",
          "height": 424
        },
        "outputId": "c8e86aec-caa6-45c3-dbe2-3fc255591afc"
      },
      "outputs": [
        {
          "output_type": "execute_result",
          "data": {
            "text/plain": [
              "       emotion             genres  \\\n",
              "0      neutral  ['Country music']   \n",
              "1      neutral  ['Country music']   \n",
              "2      neutral  ['Country music']   \n",
              "3      neutral  ['Country music']   \n",
              "4      neutral  ['Country music']   \n",
              "...        ...                ...   \n",
              "11995    anger       ['Soothing']   \n",
              "11996    anger       ['Soothing']   \n",
              "11997    anger       ['Soothing']   \n",
              "11998    anger       ['Soothing']   \n",
              "11999    anger       ['Soothing']   \n",
              "\n",
              "                                                   songs  \n",
              "0           ['The Wolves','Heading South','Never Leave']  \n",
              "1           ['The Wolves','Heading South','Never Leave']  \n",
              "2           ['The Wolves','Heading South','Never Leave']  \n",
              "3           ['The Wolves','Heading South','Never Leave']  \n",
              "4           ['The Wolves','Heading South','Never Leave']  \n",
              "...                                                  ...  \n",
              "11995  ['River flows in you','Love yourself','I wont ...  \n",
              "11996  ['River flows in you','Love yourself','I wont ...  \n",
              "11997  ['River flows in you','Love yourself','I wont ...  \n",
              "11998  ['River flows in you','Love yourself','I wont ...  \n",
              "11999  ['River flows in you','Love yourself','I wont ...  \n",
              "\n",
              "[12000 rows x 3 columns]"
            ],
            "text/html": [
              "\n",
              "  <div id=\"df-af6bca82-04b5-43e8-9df6-3f1352338024\">\n",
              "    <div class=\"colab-df-container\">\n",
              "      <div>\n",
              "<style scoped>\n",
              "    .dataframe tbody tr th:only-of-type {\n",
              "        vertical-align: middle;\n",
              "    }\n",
              "\n",
              "    .dataframe tbody tr th {\n",
              "        vertical-align: top;\n",
              "    }\n",
              "\n",
              "    .dataframe thead th {\n",
              "        text-align: right;\n",
              "    }\n",
              "</style>\n",
              "<table border=\"1\" class=\"dataframe\">\n",
              "  <thead>\n",
              "    <tr style=\"text-align: right;\">\n",
              "      <th></th>\n",
              "      <th>emotion</th>\n",
              "      <th>genres</th>\n",
              "      <th>songs</th>\n",
              "    </tr>\n",
              "  </thead>\n",
              "  <tbody>\n",
              "    <tr>\n",
              "      <th>0</th>\n",
              "      <td>neutral</td>\n",
              "      <td>['Country music']</td>\n",
              "      <td>['The Wolves','Heading South','Never Leave']</td>\n",
              "    </tr>\n",
              "    <tr>\n",
              "      <th>1</th>\n",
              "      <td>neutral</td>\n",
              "      <td>['Country music']</td>\n",
              "      <td>['The Wolves','Heading South','Never Leave']</td>\n",
              "    </tr>\n",
              "    <tr>\n",
              "      <th>2</th>\n",
              "      <td>neutral</td>\n",
              "      <td>['Country music']</td>\n",
              "      <td>['The Wolves','Heading South','Never Leave']</td>\n",
              "    </tr>\n",
              "    <tr>\n",
              "      <th>3</th>\n",
              "      <td>neutral</td>\n",
              "      <td>['Country music']</td>\n",
              "      <td>['The Wolves','Heading South','Never Leave']</td>\n",
              "    </tr>\n",
              "    <tr>\n",
              "      <th>4</th>\n",
              "      <td>neutral</td>\n",
              "      <td>['Country music']</td>\n",
              "      <td>['The Wolves','Heading South','Never Leave']</td>\n",
              "    </tr>\n",
              "    <tr>\n",
              "      <th>...</th>\n",
              "      <td>...</td>\n",
              "      <td>...</td>\n",
              "      <td>...</td>\n",
              "    </tr>\n",
              "    <tr>\n",
              "      <th>11995</th>\n",
              "      <td>anger</td>\n",
              "      <td>['Soothing']</td>\n",
              "      <td>['River flows in you','Love yourself','I wont ...</td>\n",
              "    </tr>\n",
              "    <tr>\n",
              "      <th>11996</th>\n",
              "      <td>anger</td>\n",
              "      <td>['Soothing']</td>\n",
              "      <td>['River flows in you','Love yourself','I wont ...</td>\n",
              "    </tr>\n",
              "    <tr>\n",
              "      <th>11997</th>\n",
              "      <td>anger</td>\n",
              "      <td>['Soothing']</td>\n",
              "      <td>['River flows in you','Love yourself','I wont ...</td>\n",
              "    </tr>\n",
              "    <tr>\n",
              "      <th>11998</th>\n",
              "      <td>anger</td>\n",
              "      <td>['Soothing']</td>\n",
              "      <td>['River flows in you','Love yourself','I wont ...</td>\n",
              "    </tr>\n",
              "    <tr>\n",
              "      <th>11999</th>\n",
              "      <td>anger</td>\n",
              "      <td>['Soothing']</td>\n",
              "      <td>['River flows in you','Love yourself','I wont ...</td>\n",
              "    </tr>\n",
              "  </tbody>\n",
              "</table>\n",
              "<p>12000 rows × 3 columns</p>\n",
              "</div>\n",
              "      <button class=\"colab-df-convert\" onclick=\"convertToInteractive('df-af6bca82-04b5-43e8-9df6-3f1352338024')\"\n",
              "              title=\"Convert this dataframe to an interactive table.\"\n",
              "              style=\"display:none;\">\n",
              "        \n",
              "  <svg xmlns=\"http://www.w3.org/2000/svg\" height=\"24px\"viewBox=\"0 0 24 24\"\n",
              "       width=\"24px\">\n",
              "    <path d=\"M0 0h24v24H0V0z\" fill=\"none\"/>\n",
              "    <path d=\"M18.56 5.44l.94 2.06.94-2.06 2.06-.94-2.06-.94-.94-2.06-.94 2.06-2.06.94zm-11 1L8.5 8.5l.94-2.06 2.06-.94-2.06-.94L8.5 2.5l-.94 2.06-2.06.94zm10 10l.94 2.06.94-2.06 2.06-.94-2.06-.94-.94-2.06-.94 2.06-2.06.94z\"/><path d=\"M17.41 7.96l-1.37-1.37c-.4-.4-.92-.59-1.43-.59-.52 0-1.04.2-1.43.59L10.3 9.45l-7.72 7.72c-.78.78-.78 2.05 0 2.83L4 21.41c.39.39.9.59 1.41.59.51 0 1.02-.2 1.41-.59l7.78-7.78 2.81-2.81c.8-.78.8-2.07 0-2.86zM5.41 20L4 18.59l7.72-7.72 1.47 1.35L5.41 20z\"/>\n",
              "  </svg>\n",
              "      </button>\n",
              "      \n",
              "  <style>\n",
              "    .colab-df-container {\n",
              "      display:flex;\n",
              "      flex-wrap:wrap;\n",
              "      gap: 12px;\n",
              "    }\n",
              "\n",
              "    .colab-df-convert {\n",
              "      background-color: #E8F0FE;\n",
              "      border: none;\n",
              "      border-radius: 50%;\n",
              "      cursor: pointer;\n",
              "      display: none;\n",
              "      fill: #1967D2;\n",
              "      height: 32px;\n",
              "      padding: 0 0 0 0;\n",
              "      width: 32px;\n",
              "    }\n",
              "\n",
              "    .colab-df-convert:hover {\n",
              "      background-color: #E2EBFA;\n",
              "      box-shadow: 0px 1px 2px rgba(60, 64, 67, 0.3), 0px 1px 3px 1px rgba(60, 64, 67, 0.15);\n",
              "      fill: #174EA6;\n",
              "    }\n",
              "\n",
              "    [theme=dark] .colab-df-convert {\n",
              "      background-color: #3B4455;\n",
              "      fill: #D2E3FC;\n",
              "    }\n",
              "\n",
              "    [theme=dark] .colab-df-convert:hover {\n",
              "      background-color: #434B5C;\n",
              "      box-shadow: 0px 1px 3px 1px rgba(0, 0, 0, 0.15);\n",
              "      filter: drop-shadow(0px 1px 2px rgba(0, 0, 0, 0.3));\n",
              "      fill: #FFFFFF;\n",
              "    }\n",
              "  </style>\n",
              "\n",
              "      <script>\n",
              "        const buttonEl =\n",
              "          document.querySelector('#df-af6bca82-04b5-43e8-9df6-3f1352338024 button.colab-df-convert');\n",
              "        buttonEl.style.display =\n",
              "          google.colab.kernel.accessAllowed ? 'block' : 'none';\n",
              "\n",
              "        async function convertToInteractive(key) {\n",
              "          const element = document.querySelector('#df-af6bca82-04b5-43e8-9df6-3f1352338024');\n",
              "          const dataTable =\n",
              "            await google.colab.kernel.invokeFunction('convertToInteractive',\n",
              "                                                     [key], {});\n",
              "          if (!dataTable) return;\n",
              "\n",
              "          const docLinkHtml = 'Like what you see? Visit the ' +\n",
              "            '<a target=\"_blank\" href=https://colab.research.google.com/notebooks/data_table.ipynb>data table notebook</a>'\n",
              "            + ' to learn more about interactive tables.';\n",
              "          element.innerHTML = '';\n",
              "          dataTable['output_type'] = 'display_data';\n",
              "          await google.colab.output.renderOutput(dataTable, element);\n",
              "          const docLink = document.createElement('div');\n",
              "          docLink.innerHTML = docLinkHtml;\n",
              "          element.appendChild(docLink);\n",
              "        }\n",
              "      </script>\n",
              "    </div>\n",
              "  </div>\n",
              "  "
            ]
          },
          "metadata": {},
          "execution_count": 37
        }
      ],
      "source": [
        "#Final Results\n",
        "df=pd.DataFrame(y_test_rf, columns = ['emotion'])\n",
        "df['emotion'].nunique()\n",
        "\n",
        "new_df = pd.merge(df, music, on='emotion', how='inner')\n",
        "new_df = new_df.drop('sr_number', axis=1)\n",
        "new_df"
      ]
    }
  ],
  "metadata": {
    "accelerator": "GPU",
    "colab": {
      "provenance": []
    },
    "gpuClass": "standard",
    "kernelspec": {
      "display_name": "Python 3",
      "name": "python3"
    },
    "language_info": {
      "name": "python"
    }
  },
  "nbformat": 4,
  "nbformat_minor": 0
}